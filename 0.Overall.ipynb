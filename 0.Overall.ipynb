{
 "cells": [
  {
   "cell_type": "markdown",
   "metadata": {},
   "source": [
    "# Overall"
   ]
  },
  {
   "attachments": {},
   "cell_type": "markdown",
   "metadata": {},
   "source": [
    "0. Types\n",
    "* Univariate\n",
    "* Multivariate\n",
    "\n",
    "1. Time-series analysis starts with answering questions like:\n",
    "* Does this data has a trend?\n",
    "* Does this data contain any sort of pattern or seasonality?\n",
    "* Is the data stationary or non-stationary?"
   ]
  }
 ],
 "metadata": {
  "language_info": {
   "name": "python"
  },
  "orig_nbformat": 4
 },
 "nbformat": 4,
 "nbformat_minor": 2
}
